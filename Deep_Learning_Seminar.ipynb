{
  "nbformat": 4,
  "nbformat_minor": 0,
  "metadata": {
    "colab": {
      "provenance": [],
      "gpuType": "T4"
    },
    "kernelspec": {
      "name": "python3",
      "display_name": "Python 3"
    },
    "language_info": {
      "name": "python"
    },
    "accelerator": "GPU"
  },
  "cells": [
    {
      "cell_type": "code",
      "execution_count": 1,
      "metadata": {
        "id": "OcqVazd9yJAJ"
      },
      "outputs": [],
      "source": [
        "import pandas as pd\n",
        "import numpy as np\n",
        "import seaborn as sns\n",
        "import torch\n",
        "import scipy"
      ]
    },
    {
      "cell_type": "code",
      "source": [
        "!pip install cartopy\n",
        "import cartopy"
      ],
      "metadata": {
        "colab": {
          "base_uri": "https://localhost:8080/"
        },
        "id": "xDIuM8bvyc34",
        "outputId": "f6325a77-38a8-4a7c-cd63-a417c40be87b"
      },
      "execution_count": 2,
      "outputs": [
        {
          "output_type": "stream",
          "name": "stdout",
          "text": [
            "Collecting cartopy\n",
            "  Downloading Cartopy-0.23.0-cp310-cp310-manylinux_2_17_x86_64.manylinux2014_x86_64.whl (11.6 MB)\n",
            "\u001b[2K     \u001b[90m━━━━━━━━━━━━━━━━━━━━━━━━━━━━━━━━━━━━━━━━\u001b[0m \u001b[32m11.6/11.6 MB\u001b[0m \u001b[31m49.4 MB/s\u001b[0m eta \u001b[36m0:00:00\u001b[0m\n",
            "\u001b[?25hRequirement already satisfied: numpy>=1.21 in /usr/local/lib/python3.10/dist-packages (from cartopy) (1.25.2)\n",
            "Requirement already satisfied: matplotlib>=3.5 in /usr/local/lib/python3.10/dist-packages (from cartopy) (3.7.1)\n",
            "Requirement already satisfied: shapely>=1.7 in /usr/local/lib/python3.10/dist-packages (from cartopy) (2.0.4)\n",
            "Requirement already satisfied: packaging>=20 in /usr/local/lib/python3.10/dist-packages (from cartopy) (24.0)\n",
            "Requirement already satisfied: pyshp>=2.3 in /usr/local/lib/python3.10/dist-packages (from cartopy) (2.3.1)\n",
            "Requirement already satisfied: pyproj>=3.3.1 in /usr/local/lib/python3.10/dist-packages (from cartopy) (3.6.1)\n",
            "Requirement already satisfied: contourpy>=1.0.1 in /usr/local/lib/python3.10/dist-packages (from matplotlib>=3.5->cartopy) (1.2.1)\n",
            "Requirement already satisfied: cycler>=0.10 in /usr/local/lib/python3.10/dist-packages (from matplotlib>=3.5->cartopy) (0.12.1)\n",
            "Requirement already satisfied: fonttools>=4.22.0 in /usr/local/lib/python3.10/dist-packages (from matplotlib>=3.5->cartopy) (4.51.0)\n",
            "Requirement already satisfied: kiwisolver>=1.0.1 in /usr/local/lib/python3.10/dist-packages (from matplotlib>=3.5->cartopy) (1.4.5)\n",
            "Requirement already satisfied: pillow>=6.2.0 in /usr/local/lib/python3.10/dist-packages (from matplotlib>=3.5->cartopy) (9.4.0)\n",
            "Requirement already satisfied: pyparsing>=2.3.1 in /usr/local/lib/python3.10/dist-packages (from matplotlib>=3.5->cartopy) (3.1.2)\n",
            "Requirement already satisfied: python-dateutil>=2.7 in /usr/local/lib/python3.10/dist-packages (from matplotlib>=3.5->cartopy) (2.8.2)\n",
            "Requirement already satisfied: certifi in /usr/local/lib/python3.10/dist-packages (from pyproj>=3.3.1->cartopy) (2024.2.2)\n",
            "Requirement already satisfied: six>=1.5 in /usr/local/lib/python3.10/dist-packages (from python-dateutil>=2.7->matplotlib>=3.5->cartopy) (1.16.0)\n",
            "Installing collected packages: cartopy\n",
            "Successfully installed cartopy-0.23.0\n"
          ]
        }
      ]
    },
    {
      "cell_type": "code",
      "source": [
        "from google.colab import drive\n",
        "drive.mount('/content/drive/')"
      ],
      "metadata": {
        "colab": {
          "base_uri": "https://localhost:8080/"
        },
        "id": "RZeoxyhWyoAa",
        "outputId": "76b52fce-120a-4a52-b40d-3a6869c66b41"
      },
      "execution_count": 3,
      "outputs": [
        {
          "output_type": "stream",
          "name": "stdout",
          "text": [
            "Mounted at /content/drive/\n"
          ]
        }
      ]
    },
    {
      "cell_type": "code",
      "source": [
        "!pip install gpustat\n",
        "!gpustat"
      ],
      "metadata": {
        "colab": {
          "base_uri": "https://localhost:8080/"
        },
        "id": "0Dl-EyGqznMo",
        "outputId": "7024e41e-9878-47e0-e6f5-5335952c3615"
      },
      "execution_count": 4,
      "outputs": [
        {
          "output_type": "stream",
          "name": "stdout",
          "text": [
            "Collecting gpustat\n",
            "  Downloading gpustat-1.1.1.tar.gz (98 kB)\n",
            "\u001b[2K     \u001b[90m━━━━━━━━━━━━━━━━━━━━━━━━━━━━━━━━━━━━━━━━\u001b[0m \u001b[32m98.1/98.1 kB\u001b[0m \u001b[31m1.5 MB/s\u001b[0m eta \u001b[36m0:00:00\u001b[0m\n",
            "\u001b[?25h  Installing build dependencies ... \u001b[?25l\u001b[?25hdone\n",
            "  Getting requirements to build wheel ... \u001b[?25l\u001b[?25hdone\n",
            "  Preparing metadata (pyproject.toml) ... \u001b[?25l\u001b[?25hdone\n",
            "Collecting nvidia-ml-py>=11.450.129 (from gpustat)\n",
            "  Downloading nvidia_ml_py-12.550.52-py3-none-any.whl (39 kB)\n",
            "Requirement already satisfied: psutil>=5.6.0 in /usr/local/lib/python3.10/dist-packages (from gpustat) (5.9.5)\n",
            "Collecting blessed>=1.17.1 (from gpustat)\n",
            "  Downloading blessed-1.20.0-py2.py3-none-any.whl (58 kB)\n",
            "\u001b[2K     \u001b[90m━━━━━━━━━━━━━━━━━━━━━━━━━━━━━━━━━━━━━━━━\u001b[0m \u001b[32m58.4/58.4 kB\u001b[0m \u001b[31m8.8 MB/s\u001b[0m eta \u001b[36m0:00:00\u001b[0m\n",
            "\u001b[?25hRequirement already satisfied: wcwidth>=0.1.4 in /usr/local/lib/python3.10/dist-packages (from blessed>=1.17.1->gpustat) (0.2.13)\n",
            "Requirement already satisfied: six>=1.9.0 in /usr/local/lib/python3.10/dist-packages (from blessed>=1.17.1->gpustat) (1.16.0)\n",
            "Building wheels for collected packages: gpustat\n",
            "  Building wheel for gpustat (pyproject.toml) ... \u001b[?25l\u001b[?25hdone\n",
            "  Created wheel for gpustat: filename=gpustat-1.1.1-py3-none-any.whl size=26532 sha256=2a0460de193145e037db8aeedd12a05098aa80864f54a8ad4f9dd867cda8cff9\n",
            "  Stored in directory: /root/.cache/pip/wheels/ec/d7/80/a71ba3540900e1f276bcae685efd8e590c810d2108b95f1e47\n",
            "Successfully built gpustat\n",
            "Installing collected packages: nvidia-ml-py, blessed, gpustat\n",
            "Successfully installed blessed-1.20.0 gpustat-1.1.1 nvidia-ml-py-12.550.52\n",
            "\u001b[1m\u001b[37m548d37abe115\u001b[m  Mon Apr 29 11:21:21 2024  \u001b[1m\u001b[30m535.104.05\u001b[m\n",
            "\u001b[36m[0]\u001b[m \u001b[34mTesla T4\u001b[m |\u001b[31m 49°C\u001b[m, \u001b[32m  0 %\u001b[m | \u001b[36m\u001b[1m\u001b[33m    0\u001b[m / \u001b[33m15360\u001b[m MB |\n"
          ]
        }
      ]
    },
    {
      "cell_type": "code",
      "source": [
        "from platform import python_version\n",
        "import torch\n",
        "print(\"Python version\", python_version())\n",
        "print(\"Pytorch - version\", torch.__version__)\n",
        "print(\"Pytorch - cuDNN version :\", torch.backends.cudnn.version())"
      ],
      "metadata": {
        "colab": {
          "base_uri": "https://localhost:8080/"
        },
        "id": "XIZpC_rtzwlE",
        "outputId": "2a2677c9-4adc-4aaa-bb4b-956864ac6858"
      },
      "execution_count": 5,
      "outputs": [
        {
          "output_type": "stream",
          "name": "stdout",
          "text": [
            "Python version 3.10.12\n",
            "Pytorch - version 2.2.1+cu121\n",
            "Pytorch - cuDNN version : 8906\n"
          ]
        }
      ]
    },
    {
      "cell_type": "code",
      "source": [
        "!git clone https://github.com/hzi-bifo/seminar-dlmb-2024.git"
      ],
      "metadata": {
        "colab": {
          "base_uri": "https://localhost:8080/"
        },
        "id": "J_qck0MRz6-M",
        "outputId": "15560c79-df15-4c38-a5df-898da98dbef1"
      },
      "execution_count": 6,
      "outputs": [
        {
          "output_type": "stream",
          "name": "stdout",
          "text": [
            "Cloning into 'seminar-dlmb-2024'...\n",
            "remote: Enumerating objects: 52, done.\u001b[K\n",
            "remote: Counting objects: 100% (52/52), done.\u001b[K\n",
            "remote: Compressing objects: 100% (50/50), done.\u001b[K\n",
            "remote: Total 52 (delta 18), reused 16 (delta 1), pack-reused 0\u001b[K\n",
            "Receiving objects: 100% (52/52), 884.95 KiB | 6.15 MiB/s, done.\n",
            "Resolving deltas: 100% (18/18), done.\n"
          ]
        }
      ]
    },
    {
      "cell_type": "code",
      "source": [
        "import os\n",
        "os.chdir('/content/seminar-dlmb-2024')"
      ],
      "metadata": {
        "id": "RDDskB4l0BJG"
      },
      "execution_count": 7,
      "outputs": []
    },
    {
      "cell_type": "code",
      "source": [
        "!pip install biopython"
      ],
      "metadata": {
        "colab": {
          "base_uri": "https://localhost:8080/"
        },
        "id": "jjmjKjb70EOt",
        "outputId": "dfef414e-def4-4d0c-fdd3-cfaa275b82df"
      },
      "execution_count": 8,
      "outputs": [
        {
          "output_type": "stream",
          "name": "stdout",
          "text": [
            "Collecting biopython\n",
            "  Downloading biopython-1.83-cp310-cp310-manylinux_2_17_x86_64.manylinux2014_x86_64.whl (3.1 MB)\n",
            "\u001b[2K     \u001b[90m━━━━━━━━━━━━━━━━━━━━━━━━━━━━━━━━━━━━━━━━\u001b[0m \u001b[32m3.1/3.1 MB\u001b[0m \u001b[31m12.2 MB/s\u001b[0m eta \u001b[36m0:00:00\u001b[0m\n",
            "\u001b[?25hRequirement already satisfied: numpy in /usr/local/lib/python3.10/dist-packages (from biopython) (1.25.2)\n",
            "Installing collected packages: biopython\n",
            "Successfully installed biopython-1.83\n"
          ]
        }
      ]
    },
    {
      "cell_type": "code",
      "source": [
        "import sys\n",
        "sys.path.append('../')\n",
        "from utility.file_utility import FileUtility\n",
        "\n",
        "# Loading the small toxin prediction dataset\n",
        "\n",
        "# train data\n",
        "seq_train=FileUtility.load_list('/content/seminar-dlmb-2024/dataset/train_seq.txt')\n",
        "y_train=FileUtility.load_list('/content/seminar-dlmb-2024/dataset/train_label.txt')\n",
        "# test data\n",
        "seq_test=FileUtility.load_list('/content/seminar-dlmb-2024/dataset/test_seq.txt')\n",
        "y_test=FileUtility.load_list('/content/seminar-dlmb-2024/dataset/test_label.txt')\n",
        "\n",
        "\n",
        "print('Num of samples in train data: {}'.format(len(seq_train)))\n",
        "print('Num of samples in test data: {}'.format(len(seq_test)))\n",
        "\n",
        "\n"
      ],
      "metadata": {
        "colab": {
          "base_uri": "https://localhost:8080/"
        },
        "id": "xTwgdXF80JD3",
        "outputId": "36ce375b-52c2-4cd8-f2e0-d95c45b9ff02"
      },
      "execution_count": 9,
      "outputs": [
        {
          "output_type": "stream",
          "name": "stdout",
          "text": [
            "Num of samples in train data: 124\n",
            "Num of samples in test data: 31\n"
          ]
        }
      ]
    },
    {
      "cell_type": "code",
      "source": [
        "print('Input of the first element:\\n{}'.format(seq_train[0]))\n",
        "print('First label: {} -> non-toxic'.format(y_train[0]))"
      ],
      "metadata": {
        "colab": {
          "base_uri": "https://localhost:8080/"
        },
        "id": "92qReUA70OZS",
        "outputId": "0fe20310-ebb4-4996-fd98-957bdf45d977"
      },
      "execution_count": 10,
      "outputs": [
        {
          "output_type": "stream",
          "name": "stdout",
          "text": [
            "Input of the first element:\n",
            "mqtmifslayiillatvsaipsgrvdivfpsletsrsgvkiikfealgqdielnlepageilakdfaivdlnnqrehltnvedlkrkiyrdsvkgaallidengpltmqgiinsklrivpyesgrvikdgriahqivelindeksyindvmpldvngvmenvvkiskkspciiidylcvtettfterfktnkelleyitvmftgvqnlldtlnlgikaqvigitpfkkqnepsfiedsaipghqqvldpvdlvknmakyycnnakglakdadiimlisnrklgelqddgtvayntagislgsgvckqcskvgvaqddsdynervdtvahetahligaphdeegpeqtgisgspgakdcpesdgyimgsgnnkvnkfkfskctkkcvehllslprascvladc\n",
            "First label: 0 -> non-toxic\n"
          ]
        }
      ]
    },
    {
      "cell_type": "code",
      "source": [
        "import seaborn as sns\n",
        "import numpy as np\n",
        "\n",
        "len_train = [len(s) for s in seq_train]\n",
        "sns.histplot(len_train, binwidth=20)\n",
        "median = np.median(len_train)\n",
        "mean = np.mean(len_train)\n",
        "print('Median and mean sequence length: {}, {}'.format(median, mean))"
      ],
      "metadata": {
        "colab": {
          "base_uri": "https://localhost:8080/",
          "height": 448
        },
        "id": "DPhTD1mw0SGI",
        "outputId": "5dc7dd73-e328-455e-c876-d8845c524447"
      },
      "execution_count": 11,
      "outputs": [
        {
          "output_type": "stream",
          "name": "stdout",
          "text": [
            "Median and mean sequence length: 87.5, 180.82258064516128\n"
          ]
        },
        {
          "output_type": "display_data",
          "data": {
            "text/plain": [
              "<Figure size 640x480 with 1 Axes>"
            ],
            "image/png": "[encoded data removed]"
          },
          "metadata": {}
        }
      ]
    },
    {
      "cell_type": "code",
      "source": [
        "uniq_vals = set(y_train)\n",
        "y_train_int = list(map(int, y_train))\n",
        "print('Labels in training data')\n",
        "print('Non toxic: {}'.format(y_train_int.count(0)))\n",
        "print('Toxic: {}'.format(y_train_int.count(1)))"
      ],
      "metadata": {
        "id": "mcu4B9jb0bl2",
        "outputId": "bd5a4c37-dfed-453f-c2cb-8b038d631c20",
        "colab": {
          "base_uri": "https://localhost:8080/"
        }
      },
      "execution_count": 12,
      "outputs": [
        {
          "output_type": "stream",
          "name": "stdout",
          "text": [
            "Labels in training data\n",
            "Non toxic: 45\n",
            "Toxic: 79\n"
          ]
        }
      ]
    },
    {
      "cell_type": "code",
      "source": [
        "uniq_vals = set(y_test)\n",
        "y_test_int = list(map(int, y_test))\n",
        "print('Labels in test data')\n",
        "print('Non toxic: {}'.format(y_test_int.count(0)))\n",
        "print('Toxic: {}'.format(y_test_int.count(1)))"
      ],
      "metadata": {
        "id": "hDmFbmab0ef2",
        "outputId": "f717225c-7be0-4ab8-9078-6a673dfe6c53",
        "colab": {
          "base_uri": "https://localhost:8080/"
        }
      },
      "execution_count": 13,
      "outputs": [
        {
          "output_type": "stream",
          "name": "stdout",
          "text": [
            "Labels in test data\n",
            "Non toxic: 14\n",
            "Toxic: 17\n"
          ]
        }
      ]
    },
    {
      "cell_type": "code",
      "source": [],
      "metadata": {
        "id": "hPYOqcCmT2nc"
      },
      "execution_count": 13,
      "outputs": []
    }
  ]
}