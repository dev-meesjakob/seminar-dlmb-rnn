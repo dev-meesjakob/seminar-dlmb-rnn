{
  "nbformat": 4,
  "nbformat_minor": 0,
  "metadata": {
    "colab": {
      "provenance": []
    },
    "kernelspec": {
      "name": "python3",
      "display_name": "Python 3"
    },
    "language_info": {
      "name": "python"
    }
  },
  "cells": [
    {
      "cell_type": "markdown",
      "source": [
        "# Data Preparation\n",
        "First, we'll clone the seminar repository to get access to our raw data and get it ready to use for the network."
      ],
      "metadata": {
        "id": "go4k7p_te1de"
      }
    },
    {
      "cell_type": "code",
      "execution_count": 1,
      "metadata": {
        "colab": {
          "base_uri": "https://localhost:8080/"
        },
        "id": "MlWn0vYmeoVu",
        "outputId": "03fbd5ac-4ee4-48bb-b0ee-b9ae4586b0b7"
      },
      "outputs": [
        {
          "output_type": "stream",
          "name": "stdout",
          "text": [
            "Cloning into 'seminar-dlmb-2024'...\n",
            "remote: Enumerating objects: 52, done.\u001b[K\n",
            "remote: Counting objects: 100% (52/52), done.\u001b[K\n",
            "remote: Compressing objects: 100% (50/50), done.\u001b[K\n",
            "remote: Total 52 (delta 18), reused 17 (delta 1), pack-reused 0\u001b[K\n",
            "Receiving objects: 100% (52/52), 884.95 KiB | 7.25 MiB/s, done.\n",
            "Resolving deltas: 100% (18/18), done.\n"
          ]
        }
      ],
      "source": [
        "!git clone https://github.com/hzi-bifo/seminar-dlmb-2024.git"
      ]
    },
    {
      "cell_type": "code",
      "source": [
        "!git clone https://github.com/dev-meesjakob/seminar-dlmb-rnn.git"
      ],
      "metadata": {
        "colab": {
          "base_uri": "https://localhost:8080/"
        },
        "id": "zBZwy3OLhtzi",
        "outputId": "8933fd06-eb57-4425-ff36-703781c4d765"
      },
      "execution_count": 2,
      "outputs": [
        {
          "output_type": "stream",
          "name": "stdout",
          "text": [
            "Cloning into 'seminar-dlmb-rnn'...\n",
            "remote: Enumerating objects: 319, done.\u001b[K\n",
            "remote: Counting objects: 100% (319/319), done.\u001b[K\n",
            "remote: Compressing objects: 100% (240/240), done.\u001b[K\n",
            "remote: Total 319 (delta 86), reused 297 (delta 68), pack-reused 0\u001b[K\n",
            "Receiving objects: 100% (319/319), 13.31 MiB | 29.44 MiB/s, done.\n",
            "Resolving deltas: 100% (86/86), done.\n"
          ]
        }
      ]
    },
    {
      "cell_type": "code",
      "source": [
        "!mkdir models/ # make the directory to save the model files in"
      ],
      "metadata": {
        "id": "CCHktGMp4LIJ"
      },
      "execution_count": 3,
      "outputs": []
    },
    {
      "cell_type": "markdown",
      "source": [
        "Here, we read in all sequences and convert them to tensors of one-hot encoded amino acids."
      ],
      "metadata": {
        "id": "XieQgCkOg27n"
      }
    },
    {
      "cell_type": "code",
      "source": [
        "import pandas as pd\n",
        "\n",
        "import torch\n",
        "import torch.nn as nn\n",
        "import torch.nn.functional as F\n",
        "\n",
        "from sklearn.preprocessing import LabelEncoder\n",
        "\n",
        "def readFromFile(path):\n",
        "  # Read every line of the file\n",
        "  with open(path, \"r\") as f:\n",
        "    data = f.readlines()\n",
        "\n",
        "  # Remove newline characters\n",
        "  data = [entry.strip() for entry in data]\n",
        "  return data"
      ],
      "metadata": {
        "id": "CtimxO3NfO0H"
      },
      "execution_count": 4,
      "outputs": []
    },
    {
      "cell_type": "code",
      "source": [
        "from tokenizers import Tokenizer\n",
        "from tokenizers.models import BPE\n",
        "from tokenizers.trainers import BpeTrainer\n",
        "\n",
        "unk_token = \"<UNK>\"  # token for unknown words\n",
        "spl_tokens = [\"<UNK>\", \"<SEP>\", \"<MASK>\", \"<CLS>\", \"<PAD>\"]  # special tokens\n",
        "\n",
        "def prepare_tokenizer_trainer():\n",
        "  tokenizer = Tokenizer(BPE(unk_token = unk_token))\n",
        "  trainer = BpeTrainer(special_tokens = spl_tokens, min_frequency = 3)\n",
        "  return tokenizer, trainer\n",
        "\n",
        "def train_tokenizer(files):\n",
        "  tokenizer, trainer = prepare_tokenizer_trainer()\n",
        "  tokenizer.train(files, trainer) # training the tokenzier\n",
        "  tokenizer.save(\"./tokenizer-trained.json\")\n",
        "  tokenizer = Tokenizer.from_file(\"./tokenizer-trained.json\")\n",
        "  tokenizer.enable_padding(pad_token=\"<PAD>\")\n",
        "  return tokenizer\n",
        "\n",
        "tok = train_tokenizer([\"/content/seminar-dlmb-2024/dataset/train_seq.txt\", \"/content/seminar-dlmb-2024/dataset/test_seq.txt\"])\n",
        "tok_big = train_tokenizer([\"/content/seminar-dlmb-rnn/dataset/train_seq_big.txt\", \"/content/seminar-dlmb-rnn/dataset/test_seq_big.txt\"])"
      ],
      "metadata": {
        "id": "ubGmGB-IHpT7"
      },
      "execution_count": 5,
      "outputs": []
    },
    {
      "cell_type": "code",
      "source": [
        "test_batch = tok.encode_batch([\"aanaklfavmqsccstppcalrhmdmcg\", \"ikngyprds\", \"qarpphppippap\"])\n",
        "test_batch"
      ],
      "metadata": {
        "colab": {
          "base_uri": "https://localhost:8080/"
        },
        "id": "yu1mZ6p3I3ZB",
        "outputId": "52bcab21-6f2c-44c2-860f-0450821ffd0c"
      },
      "execution_count": 6,
      "outputs": [
        {
          "output_type": "execute_result",
          "data": {
            "text/plain": [
              "[Encoding(num_tokens=16, attributes=[ids, type_ids, tokens, offsets, attention_mask, special_tokens_mask, overflowing]),\n",
              " Encoding(num_tokens=16, attributes=[ids, type_ids, tokens, offsets, attention_mask, special_tokens_mask, overflowing]),\n",
              " Encoding(num_tokens=16, attributes=[ids, type_ids, tokens, offsets, attention_mask, special_tokens_mask, overflowing])]"
            ]
          },
          "metadata": {},
          "execution_count": 6
        }
      ]
    },
    {
      "cell_type": "code",
      "source": [
        "train_seq = readFromFile(\"/content/seminar-dlmb-2024/dataset/train_seq.txt\")\n",
        "train_label = readFromFile(\"/content/seminar-dlmb-2024/dataset/train_label.txt\")\n",
        "\n",
        "test_seq = readFromFile(\"/content/seminar-dlmb-2024/dataset/test_seq.txt\")\n",
        "test_label = readFromFile(\"/content/seminar-dlmb-2024/dataset/test_label.txt\")\n",
        "\n",
        "# Convert labels to integers\n",
        "train_label = [int(label) for label in train_label]\n",
        "test_label = [int(label) for label in test_label]\n",
        "\n",
        "# big dataset\n",
        "train_seq_big = readFromFile(\"/content/seminar-dlmb-rnn/dataset/train_seq_big.txt\")\n",
        "train_label_big = readFromFile(\"/content/seminar-dlmb-rnn/dataset/train_labels_big.txt\")\n",
        "\n",
        "test_seq_big = readFromFile(\"/content/seminar-dlmb-rnn/dataset/test_seq_big.txt\")\n",
        "test_label_big = readFromFile(\"/content/seminar-dlmb-rnn/dataset/test_labels_big.txt\")\n",
        "\n",
        "# Convert labels to integers\n",
        "train_label_big = [int(label) for label in train_label_big]\n",
        "test_label_big = [int(label) for label in test_label_big]"
      ],
      "metadata": {
        "id": "oZHKQoakHo_m"
      },
      "execution_count": 37,
      "outputs": []
    },
    {
      "cell_type": "code",
      "source": [
        "# Create DataFrames\n",
        "df_train = pd.DataFrame({\n",
        "    'sequence': train_seq,\n",
        "    'label': train_label,\n",
        "})\n",
        "\n",
        "df_test = pd.DataFrame({\n",
        "    'sequence': test_seq,\n",
        "    'label': test_label,\n",
        "})\n",
        "\n",
        "# big dataset\n",
        "df_train_big = pd.DataFrame({\n",
        "    'sequence': train_seq_big,\n",
        "    'label': train_label_big,\n",
        "})\n",
        "\n",
        "df_test_big = pd.DataFrame({\n",
        "    'sequence': test_seq_big,\n",
        "    'label': test_label_big,\n",
        "})"
      ],
      "metadata": {
        "id": "-6pL4OqXJ1cy"
      },
      "execution_count": 38,
      "outputs": []
    },
    {
      "cell_type": "code",
      "source": [
        "from torch.utils.data import Dataset, DataLoader\n",
        "\n",
        "class ToxinDatasetReader(Dataset):\n",
        "  def __init__(self, df: pd.DataFrame):\n",
        "    self.df = df\n",
        "\n",
        "  def __len__(self):\n",
        "    return len(self.df)\n",
        "\n",
        "  def __getitem__(self, idx: int):\n",
        "    row = self.df.loc[idx]\n",
        "    input_protein = row.sequence\n",
        "    labels = row.label\n",
        "    return input_protein, labels\n",
        "\n",
        "train_dat = ToxinDatasetReader(df_train)\n",
        "test_dat = ToxinDatasetReader(df_test)\n",
        "val_dat = ToxinDatasetReader(df_train) # use training data as validation data\n",
        "\n",
        "# big dataset\n",
        "train_dat_big = ToxinDatasetReader(df_train_big)\n",
        "test_dat_big = ToxinDatasetReader(df_test_big)\n",
        "val_dat_big = ToxinDatasetReader(df_train_big) # use training data as validation data"
      ],
      "metadata": {
        "id": "fByDlgK2Mc-2"
      },
      "execution_count": 39,
      "outputs": []
    },
    {
      "cell_type": "code",
      "source": [
        "def collate_fn(data):\n",
        "  seq, labels  = zip(*data)\n",
        "\n",
        "  labels = torch.tensor(labels)\n",
        "  batch = tok.encode_batch(seq)\n",
        "\n",
        "  sequences = torch.tensor([seq.ids for seq in batch])\n",
        "  masks = torch.tensor([seq.attention_mask for seq in batch])\n",
        "\n",
        "  return sequences, masks, labels.long()"
      ],
      "metadata": {
        "id": "jdSI8zqgtcR3"
      },
      "execution_count": 40,
      "outputs": []
    },
    {
      "cell_type": "code",
      "source": [
        "BATCH_SIZE=32\n",
        "\n",
        "train_loader = DataLoader(train_dat, batch_size=BATCH_SIZE, collate_fn=collate_fn)\n",
        "test_loader = DataLoader(test_dat, batch_size=BATCH_SIZE, collate_fn=collate_fn)\n",
        "val_loader = DataLoader(val_dat, batch_size=BATCH_SIZE, collate_fn=collate_fn)\n",
        "\n",
        "# big dataset\n",
        "train_loader_big = DataLoader(train_dat_big, batch_size=BATCH_SIZE, collate_fn=collate_fn)\n",
        "test_loader_big = DataLoader(test_dat_big, batch_size=BATCH_SIZE, collate_fn=collate_fn)\n",
        "val_loader_big = DataLoader(val_dat_big, batch_size=BATCH_SIZE, collate_fn=collate_fn)"
      ],
      "metadata": {
        "id": "61GpKBrPMwMn"
      },
      "execution_count": 41,
      "outputs": []
    },
    {
      "cell_type": "code",
      "source": [
        "class RNN(nn.Module):\n",
        "  def __init__(self, input_size, hidden_size, num_layers, output_size, device):\n",
        "    super(RNN, self).__init__()\n",
        "\n",
        "    self.device = device\n",
        "    self.hidden_size = hidden_size\n",
        "    self.num_layers = num_layers\n",
        "\n",
        "    self.embedding = nn.Embedding(input_size, hidden_size)\n",
        "\n",
        "    self.rnn = nn.RNN(hidden_size, hidden_size, num_layers=num_layers, nonlinearity=\"relu\")\n",
        "\n",
        "    self.fc = nn.Linear(hidden_size, output_size)\n",
        "    self.sigmoid = nn.Sigmoid()\n",
        "\n",
        "  def forward(self, tokens, masks):\n",
        "    # initialize hidden state as tensor of zeros\n",
        "    hidden = torch.zeros(self.num_layers, tokens.size(0), self.hidden_size).requires_grad_().to(self.device)\n",
        "\n",
        "    # embedding layer at the start for the tokens\n",
        "    embeddings = self.embedding(tokens)\n",
        "\n",
        "    # create packed sequence to pass to the rnn layer\n",
        "    packed_in = nn.utils.rnn.pack_padded_sequence(embeddings, masks.sum(1), batch_first=True, enforce_sorted=False).to(self.device)\n",
        "\n",
        "    packed_out, hidden = self.rnn(packed_in, hidden)\n",
        "\n",
        "    # unpack the packed sequence the rnn gave us\n",
        "    out, _ = nn.utils.rnn.pad_packed_sequence(packed_out, batch_first=True)\n",
        "\n",
        "    # get the last valid output for each sequence\n",
        "    seq_lengths = masks.sum(1) - 1  # Adjusting to zero-based index\n",
        "    last_outputs = out[range(out.size(0)), seq_lengths]\n",
        "\n",
        "    # fully connected last layer so use bcewithlogitsloss\n",
        "    out = self.fc(last_outputs)\n",
        "\n",
        "    return out\n",
        "\n",
        "  def get_last_output(self, output, lengths):\n",
        "    # Extract the last output for each sequence\n",
        "    last_output = torch.stack([output[i, lengths[i] - 1, :] for i in range(output.size(0))])\n",
        "    return last_output"
      ],
      "metadata": {
        "id": "bChF1ZXGtx9L"
      },
      "execution_count": 30,
      "outputs": []
    },
    {
      "cell_type": "code",
      "source": [
        "import time\n",
        "from datetime import datetime\n",
        "\n",
        "import numpy as np\n",
        "import matplotlib.pyplot as plt\n",
        "\n",
        "MODEL_PATH = f\"/content/models/\"\n",
        "\n",
        "class Optimization:\n",
        "  def __init__(self, model, loss_fn, optimizer, device):\n",
        "    self.model = model\n",
        "    self.loss_fn = loss_fn\n",
        "    self.optimizer = optimizer\n",
        "    self.device = device\n",
        "\n",
        "    self.train_losses = []\n",
        "    self.val_losses = []\n",
        "\n",
        "  def train_step(self, batch, masks, labels):\n",
        "    batch = batch.to(self.device)\n",
        "    labels = labels.to(self.device)\n",
        "\n",
        "    self.model.train()\n",
        "    outputs = self.model(batch, masks)\n",
        "\n",
        "    labels = labels.view(-1, 1).float()\n",
        "\n",
        "    loss = self.loss_fn(outputs, labels)\n",
        "\n",
        "    loss.backward()\n",
        "\n",
        "    self.optimizer.step()\n",
        "    self.optimizer.zero_grad()\n",
        "\n",
        "    return loss.item()\n",
        "\n",
        "  def train(self, train_loader, val_loader, batch_size=32, n_epochs=50, n_features=1):\n",
        "    model_path = MODEL_PATH + f'model_{datetime.now().strftime(\"%Y-%m-%d %H:%M:%S\").replace(\" \", \"_\").replace(\":\", \"_\")}'\n",
        "\n",
        "    for epoch in range(1, n_epochs + 1):\n",
        "        self.model.rnn.all_weights\n",
        "        start_time = time.time()\n",
        "        batch_losses = []\n",
        "\n",
        "        # training set\n",
        "        for batch, masks, labels in train_loader:\n",
        "          loss = self.train_step(batch, masks, labels)\n",
        "          batch_losses.append(loss)\n",
        "\n",
        "        training_loss = np.mean(batch_losses)\n",
        "        self.train_losses.append(training_loss)\n",
        "\n",
        "        # validation set\n",
        "        with torch.no_grad():\n",
        "          batch_val_losses = []\n",
        "          for batch, masks, labels in val_loader:\n",
        "            batch = batch.to(self.device)\n",
        "            labels = labels.to(self.device)\n",
        "\n",
        "            labels = labels.view(-1, 1).float()\n",
        "\n",
        "            self.model.eval()\n",
        "            outputs = self.model(batch, masks)\n",
        "\n",
        "            val_loss = self.loss_fn(outputs, labels).item()\n",
        "            batch_val_losses.append(val_loss)\n",
        "\n",
        "          validation_loss = np.mean(batch_val_losses)\n",
        "          self.val_losses.append(validation_loss)\n",
        "\n",
        "        end_time = time.time()\n",
        "        epoch_duration = end_time - start_time\n",
        "\n",
        "        print(f\"[{epoch}/{n_epochs}] Training loss: {training_loss:.4f}\\t Validation loss: {validation_loss:.4f}\\t Epoch duration: {epoch_duration:.1f}s\")\n",
        "\n",
        "    torch.save(self.model.state_dict(), model_path)\n",
        "\n",
        "  def evaluate(self, test_loader, batch_size=1, n_features=1):\n",
        "\n",
        "    # test set\n",
        "    with torch.no_grad():\n",
        "      predictions = []\n",
        "      values = []\n",
        "\n",
        "      for batch, masks, labels in test_loader:\n",
        "        batch = batch.to(self.device)\n",
        "        labels = labels.to(self.device)\n",
        "\n",
        "        labels = labels.view(-1, 1).float()\n",
        "\n",
        "        self.model.eval()\n",
        "        outputs = self.model(batch, masks)\n",
        "\n",
        "        outputs = outputs.cpu()\n",
        "        labels = labels.cpu()\n",
        "        predictions.append(outputs.detach().numpy())\n",
        "        values.append(labels.detach().numpy())\n",
        "\n",
        "      return predictions, values\n",
        "\n",
        "  def plot_losses(self):\n",
        "    plt.plot(self.train_losses, label=\"Training loss\")\n",
        "    plt.plot(self.val_losses, label=\"Validation loss\")\n",
        "    plt.legend()\n",
        "    plt.title(\"Losses\")\n",
        "    plt.show()\n",
        "    plt.close()"
      ],
      "metadata": {
        "id": "oQ-3S_dOxYIx"
      },
      "execution_count": 33,
      "outputs": []
    },
    {
      "cell_type": "code",
      "source": [
        "import torch.optim as optim\n",
        "import glob\n",
        "import os\n",
        "\n",
        "device = \"cuda\" if torch.cuda.is_available() else \"cpu\"\n",
        "print(f'Using device: {device}')\n",
        "\n",
        "# Hyperparameters\n",
        "input_size = tok.get_vocab_size()\n",
        "output_size = 1\n",
        "hidden_size = 64\n",
        "num_layers = 3\n",
        "n_epochs = 2\n",
        "learning_rate = 0.003\n",
        "weight_decay = 0.1\n",
        "\n",
        "model = RNN(input_size, hidden_size, num_layers, output_size, device)\n",
        "model.to(device)\n",
        "\n",
        "# Use glob to find files starting with \"model_\"\n",
        "model_files = glob.glob(os.path.join(MODEL_PATH, 'model_*'))\n",
        "\n",
        "# Check if any model files were found\n",
        "if model_files:\n",
        "    # Find the latest file based on modification time\n",
        "    latest_model_file = max(model_files, key=os.path.getmtime)\n",
        "    model_path = latest_model_file\n",
        "    print(f'Latest model file found: {model_path}')\n",
        "    model.load_state_dict(torch.load(model_path))\n",
        "\n",
        "loss_fn = nn.BCEWithLogitsLoss()\n",
        "optimizer = optim.Adam(model.parameters(), lr=learning_rate, weight_decay=weight_decay)\n",
        "\n",
        "opt = Optimization(model=model, loss_fn=loss_fn, optimizer=optimizer, device=device)\n",
        "opt.train(train_loader, val_loader, n_epochs=n_epochs, n_features=input_size)\n",
        "opt.plot_losses()"
      ],
      "metadata": {
        "colab": {
          "base_uri": "https://localhost:8080/",
          "height": 506
        },
        "id": "eyLeMeNgyUur",
        "outputId": "dea96157-8c35-4d5e-f648-8401c935921a"
      },
      "execution_count": 36,
      "outputs": [
        {
          "output_type": "stream",
          "name": "stdout",
          "text": [
            "Using device: cpu\n",
            "[1/2] Training loss: 0.6748\t Validation loss: 0.6681\t Epoch duration: 2.3s\n",
            "[2/2] Training loss: 0.6667\t Validation loss: 0.6643\t Epoch duration: 2.3s\n"
          ]
        },
        {
          "output_type": "display_data",
          "data": {
            "text/plain": [
              "<Figure size 640x480 with 1 Axes>"
            ],
            "image/png": "[encoded data removed]"
          },
          "metadata": {}
        }
      ]
    }
  ]
}